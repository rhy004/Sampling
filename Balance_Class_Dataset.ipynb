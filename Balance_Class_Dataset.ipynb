{
  "metadata": {
    "kernelspec": {
      "language": "python",
      "display_name": "Python 3",
      "name": "python3"
    },
    "language_info": {
      "name": "python",
      "version": "3.10.13",
      "mimetype": "text/x-python",
      "codemirror_mode": {
        "name": "ipython",
        "version": 3
      },
      "pygments_lexer": "ipython3",
      "nbconvert_exporter": "python",
      "file_extension": ".py"
    },
    "kaggle": {
      "accelerator": "none",
      "dataSources": [
        {
          "sourceId": 7530243,
          "sourceType": "datasetVersion",
          "datasetId": 4385916
        }
      ],
      "dockerImageVersionId": 30646,
      "isInternetEnabled": true,
      "language": "python",
      "sourceType": "notebook",
      "isGpuEnabled": false
    },
    "colab": {
      "provenance": [],
      "include_colab_link": true
    }
  },
  "nbformat_minor": 0,
  "nbformat": 4,
  "cells": [
    {
      "cell_type": "markdown",
      "metadata": {
        "id": "view-in-github",
        "colab_type": "text"
      },
      "source": [
        "<a href=\"https://colab.research.google.com/github/rhy004/Sampling/blob/main/Balance_Class_Dataset.ipynb\" target=\"_parent\"><img src=\"https://colab.research.google.com/assets/colab-badge.svg\" alt=\"Open In Colab\"/></a>"
      ]
    },
    {
      "cell_type": "code",
      "source": [
        "!pip install -U imbalanced-learn"
      ],
      "metadata": {
        "execution": {
          "iopub.status.busy": "2024-02-01T13:59:24.460097Z",
          "iopub.execute_input": "2024-02-01T13:59:24.460432Z",
          "iopub.status.idle": "2024-02-01T13:59:40.9673Z",
          "shell.execute_reply.started": "2024-02-01T13:59:24.460397Z",
          "shell.execute_reply": "2024-02-01T13:59:40.965828Z"
        },
        "trusted": true,
        "id": "Tqfmf7cAKZNF",
        "outputId": "b00f9d82-bf09-4526-9372-e92bb64c71be",
        "colab": {
          "base_uri": "https://localhost:8080/"
        }
      },
      "execution_count": null,
      "outputs": [
        {
          "output_type": "stream",
          "name": "stdout",
          "text": [
            "Requirement already satisfied: imbalanced-learn in /usr/local/lib/python3.10/dist-packages (0.10.1)\n",
            "Collecting imbalanced-learn\n",
            "  Downloading imbalanced_learn-0.12.0-py3-none-any.whl (257 kB)\n",
            "\u001b[2K     \u001b[90m━━━━━━━━━━━━━━━━━━━━━━━━━━━━━━━━━━━━━━━━\u001b[0m \u001b[32m257.7/257.7 kB\u001b[0m \u001b[31m6.2 MB/s\u001b[0m eta \u001b[36m0:00:00\u001b[0m\n",
            "\u001b[?25hRequirement already satisfied: numpy>=1.17.3 in /usr/local/lib/python3.10/dist-packages (from imbalanced-learn) (1.23.5)\n",
            "Requirement already satisfied: scipy>=1.5.0 in /usr/local/lib/python3.10/dist-packages (from imbalanced-learn) (1.11.4)\n",
            "Requirement already satisfied: scikit-learn>=1.0.2 in /usr/local/lib/python3.10/dist-packages (from imbalanced-learn) (1.2.2)\n",
            "Requirement already satisfied: joblib>=1.1.1 in /usr/local/lib/python3.10/dist-packages (from imbalanced-learn) (1.3.2)\n",
            "Requirement already satisfied: threadpoolctl>=2.0.0 in /usr/local/lib/python3.10/dist-packages (from imbalanced-learn) (3.2.0)\n",
            "Installing collected packages: imbalanced-learn\n",
            "  Attempting uninstall: imbalanced-learn\n",
            "    Found existing installation: imbalanced-learn 0.10.1\n",
            "    Uninstalling imbalanced-learn-0.10.1:\n",
            "      Successfully uninstalled imbalanced-learn-0.10.1\n",
            "Successfully installed imbalanced-learn-0.12.0\n"
          ]
        }
      ]
    },
    {
      "cell_type": "markdown",
      "source": [
        "# **SMOTE  (SYNTHETIC MINORITY OVERSAMPLING TECHNIQUE)**"
      ],
      "metadata": {
        "id": "kjpFfbtsKZNG"
      }
    },
    {
      "cell_type": "code",
      "source": [
        "import pandas as pd\n",
        "from imblearn.over_sampling import SMOTE\n",
        "from sklearn.model_selection import train_test_split\n",
        "\n",
        "# Load your dataset\n",
        "df = pd.read_csv('/kaggle/input/mydataset/Creditcard_data.csv')"
      ],
      "metadata": {
        "execution": {
          "iopub.status.busy": "2024-02-01T13:59:40.968931Z",
          "iopub.execute_input": "2024-02-01T13:59:40.969341Z",
          "iopub.status.idle": "2024-02-01T13:59:40.991392Z",
          "shell.execute_reply.started": "2024-02-01T13:59:40.969302Z",
          "shell.execute_reply": "2024-02-01T13:59:40.990085Z"
        },
        "trusted": true,
        "id": "l34j0XI7KZNJ"
      },
      "execution_count": null,
      "outputs": []
    },
    {
      "cell_type": "code",
      "source": [
        "df.head()"
      ],
      "metadata": {
        "execution": {
          "iopub.status.busy": "2024-02-01T13:59:40.99434Z",
          "iopub.execute_input": "2024-02-01T13:59:40.99471Z",
          "iopub.status.idle": "2024-02-01T13:59:41.030649Z",
          "shell.execute_reply.started": "2024-02-01T13:59:40.99468Z",
          "shell.execute_reply": "2024-02-01T13:59:41.029429Z"
        },
        "trusted": true,
        "id": "M_B1U94fKZNJ"
      },
      "execution_count": null,
      "outputs": []
    },
    {
      "cell_type": "code",
      "source": [
        "df.columns"
      ],
      "metadata": {
        "execution": {
          "iopub.status.busy": "2024-02-01T13:59:41.032215Z",
          "iopub.execute_input": "2024-02-01T13:59:41.033386Z",
          "iopub.status.idle": "2024-02-01T13:59:41.042265Z",
          "shell.execute_reply.started": "2024-02-01T13:59:41.033344Z",
          "shell.execute_reply": "2024-02-01T13:59:41.040936Z"
        },
        "trusted": true,
        "id": "SSWBDC4kKZNK"
      },
      "execution_count": null,
      "outputs": []
    },
    {
      "cell_type": "code",
      "source": [
        "X = df.drop('Class', axis=1)\n",
        "y = df['Class']\n",
        "\n",
        "# Split the dataset into training and testing sets\n",
        "X_train, X_test, y_train, y_test = train_test_split(X, y, test_size=0.2, random_state=42)"
      ],
      "metadata": {
        "execution": {
          "iopub.status.busy": "2024-02-01T13:59:41.043404Z",
          "iopub.execute_input": "2024-02-01T13:59:41.043725Z",
          "iopub.status.idle": "2024-02-01T13:59:41.057283Z",
          "shell.execute_reply.started": "2024-02-01T13:59:41.043699Z",
          "shell.execute_reply": "2024-02-01T13:59:41.056142Z"
        },
        "trusted": true,
        "id": "bFzFGdTNKZNL"
      },
      "execution_count": null,
      "outputs": []
    },
    {
      "cell_type": "code",
      "source": [
        "y_train.head()"
      ],
      "metadata": {
        "execution": {
          "iopub.status.busy": "2024-02-01T13:59:41.059145Z",
          "iopub.execute_input": "2024-02-01T13:59:41.059787Z",
          "iopub.status.idle": "2024-02-01T13:59:41.070507Z",
          "shell.execute_reply.started": "2024-02-01T13:59:41.059759Z",
          "shell.execute_reply": "2024-02-01T13:59:41.069232Z"
        },
        "trusted": true,
        "id": "a1FFgn1UKZNM"
      },
      "execution_count": null,
      "outputs": []
    },
    {
      "cell_type": "code",
      "source": [
        "smote = SMOTE(random_state=42)\n",
        "X_resampled, y_resampled = smote.fit_resample(X_train, y_train)"
      ],
      "metadata": {
        "execution": {
          "iopub.status.busy": "2024-02-01T13:59:41.072251Z",
          "iopub.execute_input": "2024-02-01T13:59:41.072645Z",
          "iopub.status.idle": "2024-02-01T13:59:41.179573Z",
          "shell.execute_reply.started": "2024-02-01T13:59:41.072612Z",
          "shell.execute_reply": "2024-02-01T13:59:41.177698Z"
        },
        "trusted": true,
        "id": "X60oFBMYKZNM"
      },
      "execution_count": null,
      "outputs": []
    },
    {
      "cell_type": "code",
      "source": [
        "balanced_df = pd.concat([pd.DataFrame(X_resampled, columns=X.columns), pd.Series(y_resampled, name='Class')], axis=1)\n",
        "balanced_df\n",
        "balanced_df.to_csv('balanced_data.csv', index=False)"
      ],
      "metadata": {
        "execution": {
          "iopub.status.busy": "2024-02-01T13:59:41.181499Z",
          "iopub.execute_input": "2024-02-01T13:59:41.187317Z",
          "iopub.status.idle": "2024-02-01T13:59:41.325307Z",
          "shell.execute_reply.started": "2024-02-01T13:59:41.187278Z",
          "shell.execute_reply": "2024-02-01T13:59:41.324194Z"
        },
        "trusted": true,
        "id": "nHeeSBZTKZNN"
      },
      "execution_count": null,
      "outputs": []
    },
    {
      "cell_type": "code",
      "source": [
        "print(\"original class distribution:\\n\",y_train.value_counts())\n",
        "print(\"\\nbBalanced class distribution:\\n\",pd.Series(y_resampled).value_counts())"
      ],
      "metadata": {
        "execution": {
          "iopub.status.busy": "2024-02-01T13:59:41.32951Z",
          "iopub.execute_input": "2024-02-01T13:59:41.329937Z",
          "iopub.status.idle": "2024-02-01T13:59:41.345253Z",
          "shell.execute_reply.started": "2024-02-01T13:59:41.329906Z",
          "shell.execute_reply": "2024-02-01T13:59:41.343851Z"
        },
        "trusted": true,
        "id": "QgXdR2y4KZNN"
      },
      "execution_count": null,
      "outputs": []
    },
    {
      "cell_type": "code",
      "source": [
        "from sklearn.ensemble import RandomForestClassifier\n",
        "from sklearn.metrics import accuracy_score, classification_report"
      ],
      "metadata": {
        "execution": {
          "iopub.status.busy": "2024-02-01T13:59:41.346803Z",
          "iopub.execute_input": "2024-02-01T13:59:41.347185Z",
          "iopub.status.idle": "2024-02-01T13:59:41.356857Z",
          "shell.execute_reply.started": "2024-02-01T13:59:41.347154Z",
          "shell.execute_reply": "2024-02-01T13:59:41.355345Z"
        },
        "trusted": true,
        "id": "o3diBL2XKZNO"
      },
      "execution_count": null,
      "outputs": []
    },
    {
      "cell_type": "code",
      "source": [
        "model_original = RandomForestClassifier(random_state=42)\n",
        "model_original.fit(X_train,y_train)\n",
        "y_pred_original = model_original.predict(X_test)"
      ],
      "metadata": {
        "execution": {
          "iopub.status.busy": "2024-02-01T13:59:41.358785Z",
          "iopub.execute_input": "2024-02-01T13:59:41.359297Z",
          "iopub.status.idle": "2024-02-01T13:59:41.717188Z",
          "shell.execute_reply.started": "2024-02-01T13:59:41.35925Z",
          "shell.execute_reply": "2024-02-01T13:59:41.715651Z"
        },
        "trusted": true,
        "id": "-7wFUM39KZNO"
      },
      "execution_count": null,
      "outputs": []
    },
    {
      "cell_type": "code",
      "source": [
        "model_balanced=RandomForestClassifier(random_state=42)\n",
        "model_balanced.fit(X_resampled,y_resampled)\n",
        "y_pred_balanced = model_balanced.predict(X_test)"
      ],
      "metadata": {
        "execution": {
          "iopub.status.busy": "2024-02-01T13:59:41.718854Z",
          "iopub.execute_input": "2024-02-01T13:59:41.719889Z",
          "iopub.status.idle": "2024-02-01T13:59:42.306487Z",
          "shell.execute_reply.started": "2024-02-01T13:59:41.719843Z",
          "shell.execute_reply": "2024-02-01T13:59:42.305194Z"
        },
        "trusted": true,
        "id": "PUwR9zk6KZNO"
      },
      "execution_count": null,
      "outputs": []
    },
    {
      "cell_type": "code",
      "source": [
        "print(\"original accuracy:\",accuracy_score(y_test,y_pred_original),\"vs \\n balanced accuracy\",accuracy_score(y_test,y_pred_balanced))\n",
        "print(\"original: \",classification_report(y_test, y_pred_original))\n",
        "print(\"\\nbalanced\\n\",classification_report(y_test, y_pred_balanced))"
      ],
      "metadata": {
        "execution": {
          "iopub.status.busy": "2024-02-01T13:59:42.3082Z",
          "iopub.execute_input": "2024-02-01T13:59:42.308639Z",
          "iopub.status.idle": "2024-02-01T13:59:42.344723Z",
          "shell.execute_reply.started": "2024-02-01T13:59:42.30858Z",
          "shell.execute_reply": "2024-02-01T13:59:42.343191Z"
        },
        "trusted": true,
        "id": "g5sVsFVBKZNO"
      },
      "execution_count": null,
      "outputs": []
    },
    {
      "cell_type": "code",
      "source": [
        "from sklearn.metrics import precision_score, recall_score, f1_score, roc_auc_score\n",
        "\n",
        "print(\"Original Model Metrics:\")\n",
        "print(\"Precision:\", precision_score(y_test, y_pred_original))\n",
        "print(\"Recall:\", recall_score(y_test, y_pred_original))\n",
        "print(\"F1 Score:\", f1_score(y_test, y_pred_original))\n",
        "print(\"ROC AUC:\", roc_auc_score(y_test, model_original.predict_proba(X_test)[:, 1]))\n",
        "\n",
        "print(\"\\nBalanced Model Metrics:\")\n",
        "print(\"Precision:\", precision_score(y_test, y_pred_balanced))\n",
        "print(\"Recall:\", recall_score(y_test, y_pred_balanced))\n",
        "print(\"F1 Score:\", f1_score(y_test, y_pred_balanced))\n",
        "print(\"ROC AUC:\", roc_auc_score(y_test, model_balanced.predict_proba(X_test)[:, 1]))"
      ],
      "metadata": {
        "execution": {
          "iopub.status.busy": "2024-02-01T13:59:42.346353Z",
          "iopub.execute_input": "2024-02-01T13:59:42.346754Z",
          "iopub.status.idle": "2024-02-01T13:59:42.406749Z",
          "shell.execute_reply.started": "2024-02-01T13:59:42.346722Z",
          "shell.execute_reply": "2024-02-01T13:59:42.405281Z"
        },
        "trusted": true,
        "id": "3K_wN9nnKZNP"
      },
      "execution_count": null,
      "outputs": []
    },
    {
      "cell_type": "markdown",
      "source": [
        "# **RANDOM OVER SAMPLING**"
      ],
      "metadata": {
        "id": "Dt4u0PAmKZNP"
      }
    },
    {
      "cell_type": "code",
      "source": [
        "import pandas as pd\n",
        "from imblearn.over_sampling import RandomOverSampler\n",
        "from collections import Counter\n",
        "\n",
        "# Load your dataset\n",
        "df1 = pd.read_csv('/kaggle/input/mydataset/Creditcard_data.csv')\n",
        "\n",
        "# Separate features (X) and target variable (y)\n",
        "X = df1.drop('Class', axis=1)\n",
        "y = df1['Class']\n",
        "X_train, X_test, y_train, y_test = train_test_split(X, y, test_size=0.2, random_state=42)\n",
        "\n",
        "# Use RandomOverSampler to oversample the minority class\n",
        "ros = RandomOverSampler(random_state=42)\n",
        "X_resampled1, y_resampled1 = ros.fit_resample(X, y)\n",
        "\n",
        "# Display original and resampled class distribution\n",
        "print('Original dataset shape:', Counter(y))\n",
        "print('Resampled dataset shape:', Counter(y_resampled1))\n"
      ],
      "metadata": {
        "execution": {
          "iopub.status.busy": "2024-02-01T14:09:36.350986Z",
          "iopub.execute_input": "2024-02-01T14:09:36.351429Z",
          "iopub.status.idle": "2024-02-01T14:09:36.386983Z",
          "shell.execute_reply.started": "2024-02-01T14:09:36.351397Z",
          "shell.execute_reply": "2024-02-01T14:09:36.386125Z"
        },
        "trusted": true,
        "id": "tJCPXlQSKZNP"
      },
      "execution_count": null,
      "outputs": []
    },
    {
      "cell_type": "code",
      "source": [
        "balanced_df1 = pd.concat([pd.DataFrame(X_resampled1, columns=X.columns), pd.Series(y_resampled1, name='Class')], axis=1)\n",
        "balanced_df1\n",
        "balanced_df1.to_csv('balanced_data1.csv', index=False)"
      ],
      "metadata": {
        "execution": {
          "iopub.status.busy": "2024-02-01T14:09:40.549778Z",
          "iopub.execute_input": "2024-02-01T14:09:40.550176Z",
          "iopub.status.idle": "2024-02-01T14:09:40.641718Z",
          "shell.execute_reply.started": "2024-02-01T14:09:40.550142Z",
          "shell.execute_reply": "2024-02-01T14:09:40.640304Z"
        },
        "trusted": true,
        "id": "cZH0EciIKZNP"
      },
      "execution_count": null,
      "outputs": []
    },
    {
      "cell_type": "code",
      "source": [
        "model_balanced1=RandomForestClassifier(random_state=42)\n",
        "model_balanced1.fit(X_resampled1,y_resampled1)\n",
        "y_pred_balanced1 = model_balanced1.predict(X_test)"
      ],
      "metadata": {
        "execution": {
          "iopub.status.busy": "2024-02-01T14:09:52.704694Z",
          "iopub.execute_input": "2024-02-01T14:09:52.705061Z",
          "iopub.status.idle": "2024-02-01T14:09:53.10756Z",
          "shell.execute_reply.started": "2024-02-01T14:09:52.705032Z",
          "shell.execute_reply": "2024-02-01T14:09:53.106457Z"
        },
        "trusted": true,
        "id": "4OVsctq3KZNQ"
      },
      "execution_count": null,
      "outputs": []
    },
    {
      "cell_type": "code",
      "source": [
        "print(\"original accuracy:\",accuracy_score(y_test,y_pred_original),\"vs \\n balanced accuracy\",accuracy_score(y_test,y_pred_balanced1))\n",
        "print(\"original: \",classification_report(y_test, y_pred_original))\n",
        "print(\"\\nbalanced\\n\",classification_report(y_test, y_pred_balanced1))"
      ],
      "metadata": {
        "execution": {
          "iopub.status.busy": "2024-02-01T14:09:58.945451Z",
          "iopub.execute_input": "2024-02-01T14:09:58.94585Z",
          "iopub.status.idle": "2024-02-01T14:09:58.97833Z",
          "shell.execute_reply.started": "2024-02-01T14:09:58.945811Z",
          "shell.execute_reply": "2024-02-01T14:09:58.976867Z"
        },
        "trusted": true,
        "id": "DZjzpkZ2KZNQ"
      },
      "execution_count": null,
      "outputs": []
    },
    {
      "cell_type": "markdown",
      "source": [
        "# **RANDOM UNDER SAMPLING**"
      ],
      "metadata": {
        "id": "0q03AXgdKZNQ"
      }
    },
    {
      "cell_type": "markdown",
      "source": [],
      "metadata": {
        "id": "xb2c9ks8KZNQ"
      }
    },
    {
      "cell_type": "code",
      "source": [
        "import pandas as pd\n",
        "from imblearn.under_sampling import RandomUnderSampler\n",
        "from collections import Counter\n",
        "\n",
        "# Load your dataset\n",
        "df2 = pd.read_csv('/kaggle/input/mydataset/Creditcard_data.csv')\n",
        "\n",
        "# Separate features (X) and target variable (y)\n",
        "X = df2.drop('Class', axis=1)\n",
        "y = df2['Class']\n",
        "X_train, X_test, y_train, y_test = train_test_split(X, y, test_size=0.2, random_state=42)\n",
        "\n",
        "# Use RandomUnderSampler to undersample the majority class\n",
        "ros = RandomUnderSampler(random_state=42)\n",
        "X_resampled2, y_resampled2 = ros.fit_resample(X, y)\n",
        "\n",
        "# Display original and resampled class distribution\n",
        "print('Original dataset shape:', Counter(y))\n",
        "print('Resampled dataset shape:', Counter(y_resampled2))\n"
      ],
      "metadata": {
        "execution": {
          "iopub.status.busy": "2024-02-01T14:07:20.568199Z",
          "iopub.execute_input": "2024-02-01T14:07:20.568652Z",
          "iopub.status.idle": "2024-02-01T14:07:20.743545Z",
          "shell.execute_reply.started": "2024-02-01T14:07:20.568617Z",
          "shell.execute_reply": "2024-02-01T14:07:20.741813Z"
        },
        "trusted": true,
        "id": "-uKgqyaJKZNQ"
      },
      "execution_count": null,
      "outputs": []
    },
    {
      "cell_type": "code",
      "source": [
        "balanced_df2 = pd.concat([pd.DataFrame(X_resampled2, columns=X.columns), pd.Series(y_resampled2, name='Class')], axis=1)\n",
        "balanced_df2\n",
        "balanced_df2.to_csv('balanced_data2.csv', index=False)"
      ],
      "metadata": {
        "execution": {
          "iopub.status.busy": "2024-02-01T14:11:17.797993Z",
          "iopub.execute_input": "2024-02-01T14:11:17.798482Z",
          "iopub.status.idle": "2024-02-01T14:11:17.811933Z",
          "shell.execute_reply.started": "2024-02-01T14:11:17.798446Z",
          "shell.execute_reply": "2024-02-01T14:11:17.810611Z"
        },
        "trusted": true,
        "id": "zNskHRqQKZNR"
      },
      "execution_count": null,
      "outputs": []
    },
    {
      "cell_type": "code",
      "source": [
        "model_balanced2=RandomForestClassifier(random_state=42)\n",
        "model_balanced2.fit(X_resampled2,y_resampled2)\n",
        "y_pred_balanced2 = model_balanced2.predict(X_test)"
      ],
      "metadata": {
        "execution": {
          "iopub.status.busy": "2024-02-01T14:10:27.902619Z",
          "iopub.execute_input": "2024-02-01T14:10:27.903049Z",
          "iopub.status.idle": "2024-02-01T14:10:28.138105Z",
          "shell.execute_reply.started": "2024-02-01T14:10:27.903015Z",
          "shell.execute_reply": "2024-02-01T14:10:28.137134Z"
        },
        "trusted": true,
        "id": "yLBFvbJnKZNR"
      },
      "execution_count": null,
      "outputs": []
    },
    {
      "cell_type": "code",
      "source": [
        "print(\"original accuracy:\",accuracy_score(y_test,y_pred_original),\"vs \\n balanced accuracy\",accuracy_score(y_test,y_pred_balanced2))\n",
        "print(\"original: \",classification_report(y_test, y_pred_original))\n",
        "print(\"\\nbalanced\\n\",classification_report(y_test, y_pred_balanced2))"
      ],
      "metadata": {
        "execution": {
          "iopub.status.busy": "2024-02-01T14:11:04.321672Z",
          "iopub.execute_input": "2024-02-01T14:11:04.322616Z",
          "iopub.status.idle": "2024-02-01T14:11:04.352495Z",
          "shell.execute_reply.started": "2024-02-01T14:11:04.322566Z",
          "shell.execute_reply": "2024-02-01T14:11:04.351234Z"
        },
        "trusted": true,
        "id": "ek_HU2lJKZNR"
      },
      "execution_count": null,
      "outputs": []
    },
    {
      "cell_type": "markdown",
      "source": [
        "**Out of above three methods SMOTE ,RANDOM OVER SAMPLING , RANDOM UNDER SAMPLING**\n",
        "\n",
        "**RANDOM OVER SAMPLING GIVES HIGHEST ACCURACY**\n",
        "\n",
        "**HENCE balanced_data.csv1 is the best balanced class dataset.**\n"
      ],
      "metadata": {
        "id": "GQgABPBFKZNR"
      }
    }
  ]
}